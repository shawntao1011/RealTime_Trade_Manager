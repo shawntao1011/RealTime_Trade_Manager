{
 "cells": [
  {
   "cell_type": "markdown",
   "metadata": {},
   "source": [
    "# 所需库"
   ]
  },
  {
   "cell_type": "code",
   "execution_count": 234,
   "metadata": {},
   "outputs": [],
   "source": [
    "from PyQt5 import QtWidgets,QtCore, QtGui\n",
    "from PyQt5.QtCore import QSize, Qt\n",
    "from PyQt5.QtWidgets import *\n",
    "from PyQt5.QtGui import QPicture,QPainter\n",
    "from PyQt5.QtCore import QPointF,QRectF\n",
    "import sys\n",
    "import pyqtgraph as pg\n",
    "import time\n",
    "from datetime import datetime\n",
    "import pandas as pd\n",
    "import numpy as np"
   ]
  },
  {
   "cell_type": "markdown",
   "metadata": {},
   "source": [
    "# 获取数据"
   ]
  },
  {
   "cell_type": "code",
   "execution_count": 235,
   "metadata": {},
   "outputs": [],
   "source": [
    "def get_stock_history_from_yahoo(ticker):\n",
    "    urlstr = \"https://finance.yahoo.com/quote/{0}/history?p={0}\".format(ticker) \n",
    "    hdata = pd.read_html(urlstr)[0][:-1] \n",
    "    hdata = hdata.set_index('Date') \n",
    "    hdata.index = pd.to_datetime(hdata.index)\n",
    "    hdata = hdata.astype('d')\n",
    "    hdata.columns = ['Open','High','Low','Close', 'AdjClose','Volume'] \n",
    "    hdata_reindexed=hdata.reset_index()\n",
    "    return hdata_reindexed"
   ]
  },
  {
   "cell_type": "code",
   "execution_count": 236,
   "metadata": {},
   "outputs": [],
   "source": [
    "nflx=get_stock_history_from_yahoo('NFLX')"
   ]
  },
  {
   "cell_type": "code",
   "execution_count": 237,
   "metadata": {},
   "outputs": [],
   "source": [
    "valid_set=nflx.sort_values(by='Date').reset_index(drop=True)"
   ]
  },
  {
   "cell_type": "code",
   "execution_count": 238,
   "metadata": {},
   "outputs": [
    {
     "data": {
      "text/html": [
       "<div>\n",
       "<style scoped>\n",
       "    .dataframe tbody tr th:only-of-type {\n",
       "        vertical-align: middle;\n",
       "    }\n",
       "\n",
       "    .dataframe tbody tr th {\n",
       "        vertical-align: top;\n",
       "    }\n",
       "\n",
       "    .dataframe thead th {\n",
       "        text-align: right;\n",
       "    }\n",
       "</style>\n",
       "<table border=\"1\" class=\"dataframe\">\n",
       "  <thead>\n",
       "    <tr style=\"text-align: right;\">\n",
       "      <th></th>\n",
       "      <th>Date</th>\n",
       "      <th>Open</th>\n",
       "      <th>High</th>\n",
       "      <th>Low</th>\n",
       "      <th>Close</th>\n",
       "      <th>AdjClose</th>\n",
       "      <th>Volume</th>\n",
       "    </tr>\n",
       "  </thead>\n",
       "  <tbody>\n",
       "    <tr>\n",
       "      <th>0</th>\n",
       "      <td>2020-02-26</td>\n",
       "      <td>366.31</td>\n",
       "      <td>382.00</td>\n",
       "      <td>365.00</td>\n",
       "      <td>379.24</td>\n",
       "      <td>379.24</td>\n",
       "      <td>8934100.0</td>\n",
       "    </tr>\n",
       "    <tr>\n",
       "      <th>1</th>\n",
       "      <td>2020-02-27</td>\n",
       "      <td>371.46</td>\n",
       "      <td>391.56</td>\n",
       "      <td>370.60</td>\n",
       "      <td>371.71</td>\n",
       "      <td>371.71</td>\n",
       "      <td>10949100.0</td>\n",
       "    </tr>\n",
       "    <tr>\n",
       "      <th>2</th>\n",
       "      <td>2020-02-28</td>\n",
       "      <td>364.21</td>\n",
       "      <td>376.77</td>\n",
       "      <td>356.80</td>\n",
       "      <td>369.03</td>\n",
       "      <td>369.03</td>\n",
       "      <td>11178600.0</td>\n",
       "    </tr>\n",
       "    <tr>\n",
       "      <th>3</th>\n",
       "      <td>2020-03-02</td>\n",
       "      <td>373.11</td>\n",
       "      <td>381.36</td>\n",
       "      <td>364.50</td>\n",
       "      <td>381.05</td>\n",
       "      <td>381.05</td>\n",
       "      <td>6997900.0</td>\n",
       "    </tr>\n",
       "    <tr>\n",
       "      <th>4</th>\n",
       "      <td>2020-03-03</td>\n",
       "      <td>381.03</td>\n",
       "      <td>393.52</td>\n",
       "      <td>367.40</td>\n",
       "      <td>368.77</td>\n",
       "      <td>368.77</td>\n",
       "      <td>8364600.0</td>\n",
       "    </tr>\n",
       "    <tr>\n",
       "      <th>...</th>\n",
       "      <td>...</td>\n",
       "      <td>...</td>\n",
       "      <td>...</td>\n",
       "      <td>...</td>\n",
       "      <td>...</td>\n",
       "      <td>...</td>\n",
       "      <td>...</td>\n",
       "    </tr>\n",
       "    <tr>\n",
       "      <th>95</th>\n",
       "      <td>2020-07-13</td>\n",
       "      <td>567.98</td>\n",
       "      <td>575.37</td>\n",
       "      <td>520.96</td>\n",
       "      <td>525.50</td>\n",
       "      <td>525.50</td>\n",
       "      <td>18399000.0</td>\n",
       "    </tr>\n",
       "    <tr>\n",
       "      <th>96</th>\n",
       "      <td>2020-07-14</td>\n",
       "      <td>517.08</td>\n",
       "      <td>525.50</td>\n",
       "      <td>490.49</td>\n",
       "      <td>524.88</td>\n",
       "      <td>524.88</td>\n",
       "      <td>15083300.0</td>\n",
       "    </tr>\n",
       "    <tr>\n",
       "      <th>97</th>\n",
       "      <td>2020-07-15</td>\n",
       "      <td>516.30</td>\n",
       "      <td>529.00</td>\n",
       "      <td>510.18</td>\n",
       "      <td>523.26</td>\n",
       "      <td>523.26</td>\n",
       "      <td>10066700.0</td>\n",
       "    </tr>\n",
       "    <tr>\n",
       "      <th>98</th>\n",
       "      <td>2020-07-16</td>\n",
       "      <td>526.48</td>\n",
       "      <td>535.54</td>\n",
       "      <td>504.36</td>\n",
       "      <td>527.39</td>\n",
       "      <td>527.39</td>\n",
       "      <td>24499000.0</td>\n",
       "    </tr>\n",
       "    <tr>\n",
       "      <th>99</th>\n",
       "      <td>2020-07-17</td>\n",
       "      <td>494.87</td>\n",
       "      <td>503.59</td>\n",
       "      <td>484.14</td>\n",
       "      <td>492.99</td>\n",
       "      <td>492.99</td>\n",
       "      <td>24974100.0</td>\n",
       "    </tr>\n",
       "  </tbody>\n",
       "</table>\n",
       "<p>100 rows × 7 columns</p>\n",
       "</div>"
      ],
      "text/plain": [
       "         Date    Open    High     Low   Close  AdjClose      Volume\n",
       "0  2020-02-26  366.31  382.00  365.00  379.24    379.24   8934100.0\n",
       "1  2020-02-27  371.46  391.56  370.60  371.71    371.71  10949100.0\n",
       "2  2020-02-28  364.21  376.77  356.80  369.03    369.03  11178600.0\n",
       "3  2020-03-02  373.11  381.36  364.50  381.05    381.05   6997900.0\n",
       "4  2020-03-03  381.03  393.52  367.40  368.77    368.77   8364600.0\n",
       "..        ...     ...     ...     ...     ...       ...         ...\n",
       "95 2020-07-13  567.98  575.37  520.96  525.50    525.50  18399000.0\n",
       "96 2020-07-14  517.08  525.50  490.49  524.88    524.88  15083300.0\n",
       "97 2020-07-15  516.30  529.00  510.18  523.26    523.26  10066700.0\n",
       "98 2020-07-16  526.48  535.54  504.36  527.39    527.39  24499000.0\n",
       "99 2020-07-17  494.87  503.59  484.14  492.99    492.99  24974100.0\n",
       "\n",
       "[100 rows x 7 columns]"
      ]
     },
     "execution_count": 238,
     "metadata": {},
     "output_type": "execute_result"
    }
   ],
   "source": [
    "valid_set"
   ]
  },
  {
   "cell_type": "code",
   "execution_count": 299,
   "metadata": {},
   "outputs": [
    {
     "data": {
      "text/plain": [
       "datetime.datetime(2020, 2, 26, 0, 0)"
      ]
     },
     "execution_count": 299,
     "metadata": {},
     "output_type": "execute_result"
    }
   ],
   "source": [
    "x_axis=valid_set.index\n",
    "real_axis=list(valid_set.Date)\n",
    "real_axis[0]\n",
    "datetime.fromtimestamp(datetime.timestamp(real_axis[0]))"
   ]
  },
  {
   "cell_type": "markdown",
   "metadata": {},
   "source": [
    "# 绘制图形 item"
   ]
  },
  {
   "cell_type": "code",
   "execution_count": 240,
   "metadata": {},
   "outputs": [],
   "source": [
    "class DrawRecItem(pg.GraphicsObject):\n",
    "    def __init__(self,data):\n",
    "        super().__init__()\n",
    "        self.data=data\n",
    "        self.draw_rect()\n",
    "        \n",
    "    def draw_rect(self):\n",
    "        \n",
    "        self.picture=QPicture()\n",
    "        p1=QPainter(self.picture)\n",
    "        \n",
    "        # 设置画pen 颜色，用来画线\n",
    "        p1.setPen(pg.mkPen('w'))\n",
    "        for i in range(len(self.data)):\n",
    "            #画一条最大值最小值之间的线\n",
    "            p1.drawLine(QPointF(self.data.index[i],self.data.Low[i]),QPointF(self.data.index[i],self.data.High[i]))\n",
    "            # 设置画刷颜色\n",
    "            if self.data.Open[i]>self.data.Close[i]:\n",
    "                p1.setBrush(pg.mkBrush('g'))\n",
    "            else:\n",
    "                p1.setBrush(pg.mkBrush('r'))\n",
    "            p1.drawRect(QRectF(self.data.index[i]-0.3,self.data.Open[i],0.6,self.data.Close[i]-self.data.Open[i]))\n",
    "         \n",
    "        \n",
    "        \n",
    "    def paint(self,p,*args):\n",
    "        p.drawPicture(0,0,self.picture)\n",
    "    def boundingRect(self):\n",
    "        return QRectF(self.picture.boundingRect())\n"
   ]
  },
  {
   "cell_type": "code",
   "execution_count": 241,
   "metadata": {},
   "outputs": [
    {
     "data": {
      "text/plain": [
       "3"
      ]
     },
     "execution_count": 241,
     "metadata": {},
     "output_type": "execute_result"
    }
   ],
   "source": [
    "temp=[1,2,4,7,2,3]\n",
    "temp[-1]"
   ]
  },
  {
   "cell_type": "markdown",
   "metadata": {},
   "source": [
    "# 时间轴"
   ]
  },
  {
   "cell_type": "code",
   "execution_count": 315,
   "metadata": {},
   "outputs": [],
   "source": [
    "class MyAxisItem(pg.AxisItem):\n",
    "    def __init__(self,ticks,*args,**kwargs):\n",
    "        pg.AxisItem.__init__(self,*args,**kwargs)\n",
    "        self.x_values=[x[0] for x in ticks]\n",
    "        self.x_strings=[x[1] for x in ticks]\n",
    "    \n",
    "    def tickStrings(self, values, scale, spacing):\n",
    "        strings=[]\n",
    "        for v in values:\n",
    "            vs=v*scale\n",
    "            if vs in self.x_values:\n",
    "                vstr=self.x_strings[np.abs(self.x_values-vs).argmin()]\n",
    "                temp_datetime=datetime.fromtimestamp(datetime.timestamp(vstr))\n",
    "                temp_string=temp_datetime.strftime(\"%Y-%m-%d %H:%M:%S\")\n",
    "                vstr=temp_string.split()[0]\n",
    "            else:\n",
    "                vstr=''\n",
    "            \n",
    "            strings.append(vstr)\n",
    "        return strings"
   ]
  },
  {
   "cell_type": "markdown",
   "metadata": {},
   "source": [
    "# 主界面"
   ]
  },
  {
   "cell_type": "code",
   "execution_count": 316,
   "metadata": {},
   "outputs": [],
   "source": [
    "class Control_sys_Tab(QTabWidget):\n",
    "    def __init__(self,parent=None):\n",
    "#         self.RequestRowKey ={}\n",
    "#         self.OrderRowKey  ={}\n",
    "#         self.BatchRowKey  ={}   #To manage batch row index\n",
    "#         self.ErrorRowKey  ={}   #To manage error row index\n",
    "#         self.BuyBatchValue = {}\n",
    "#         self.SellBatchValue= {}\n",
    "#         self.BatchManagers  ={} # To manage value for each batch\n",
    "#         self.g_CurrRequestRow = 0\n",
    "#         self.g_CurrOrderRow  = 0\n",
    "#         self.g_CurrBatchRow  = 0\n",
    "#         self.g_CurrErrorRow  = 0\n",
    "        super().__init__(parent)\n",
    "        \n",
    "        self.setObjectName(\"Control_system\")\n",
    "        self.resize(1800,985)\n",
    "        self.setWindowTitle(\"实时监控系统\")\n",
    "        self.Data=valid_set\n",
    "        \n",
    "        #创建3个选项卡小控件窗口\n",
    "        self.tab1=QWidget()\n",
    "        self.tab2=QWidget()\n",
    "        self.tab3=QWidget()\n",
    "        \n",
    "        \n",
    "        #将三个选项卡添加到顶层窗口中\n",
    "        self.addTab(self.tab1, \"交易界面\")\n",
    "        self.addTab(self.tab2, \"PNL展示界面\")\n",
    "        self.addTab(self.tab3, \"PNL定时发送\")\n",
    "\n",
    "        #每个选项卡自定义的内容\n",
    "        self.tab1UI()\n",
    "        self.tab2UI()\n",
    "        self.tab3UI()\n",
    "        \n",
    "        \n",
    "    def tab1UI(self):\n",
    "\n",
    "        return \n",
    "\n",
    "    def tab2UI(self):\n",
    "        layout=QVBoxLayout()\n",
    "        item=DrawRecItem(self.Data)\n",
    "\n",
    "#         # 设置坐标轴\n",
    "#         x_axis=valid_set.index\n",
    "#         real_axis=valid_set.Date\n",
    "#         axis_min=datetime.timestamp(real_axis[0])\n",
    "#         axis_max=datetime.timestamp(real_axis[len(real_axis)-1])\n",
    "#         ticks=[(i,datetime.timestamp(j)) for i,j in zip(x_axis,real_axis)]\n",
    "#         strAxis=pg.DateAxisItem()\n",
    "#         strAxis.setTicks([ticks])\n",
    "        ticks=[(i,j) for i ,j in zip(self.Data.index,self.Data.Date)]\n",
    "        strAxis=MyAxisItem(ticks,orientation=\"bottom\")\n",
    "        \n",
    "        self.plt=pg.PlotWidget(axisItems = {'bottom': strAxis})\n",
    "#         #self.plt.setXRange(axis_min,axis_max)\n",
    "        \n",
    "        #将iTem加入到plotwidget控件中\n",
    "        self.plt.addItem(item)\n",
    "\n",
    "        #将控件添加到pyqt中\n",
    "        layout.addWidget(self.plt)\n",
    "        #将layout 布局添加到 tab2中\n",
    "        self.tab2.setLayout(layout)\n",
    "    def tab3UI(self):\n",
    "\n",
    "        return \n",
    "\n",
    "\n"
   ]
  },
  {
   "cell_type": "markdown",
   "metadata": {},
   "source": [
    "# Main"
   ]
  },
  {
   "cell_type": "code",
   "execution_count": null,
   "metadata": {},
   "outputs": [],
   "source": [
    "if __name__ == \"__main__\":\n",
    "    app = QtWidgets.QApplication.instance()\n",
    "    if app is None:\n",
    "        app = QtWidgets.QApplication(sys.argv)\n",
    "    w = Control_sys_Tab()\n",
    "    w.show()\n",
    "    sys.exit(app.exec_())"
   ]
  },
  {
   "cell_type": "code",
   "execution_count": null,
   "metadata": {},
   "outputs": [],
   "source": []
  },
  {
   "cell_type": "code",
   "execution_count": null,
   "metadata": {},
   "outputs": [],
   "source": []
  }
 ],
 "metadata": {
  "kernelspec": {
   "display_name": "Python 3",
   "language": "python",
   "name": "python3"
  },
  "language_info": {
   "codemirror_mode": {
    "name": "ipython",
    "version": 3
   },
   "file_extension": ".py",
   "mimetype": "text/x-python",
   "name": "python",
   "nbconvert_exporter": "python",
   "pygments_lexer": "ipython3",
   "version": "3.7.6"
  }
 },
 "nbformat": 4,
 "nbformat_minor": 4
}

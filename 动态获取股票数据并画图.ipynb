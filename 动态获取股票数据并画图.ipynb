{
 "cells": [
  {
   "cell_type": "markdown",
   "metadata": {},
   "source": [
    "# 所需库"
   ]
  },
  {
   "cell_type": "code",
   "execution_count": 2,
   "metadata": {},
   "outputs": [],
   "source": [
    "from PyQt5 import QtWidgets,QtCore, QtGui\n",
    "from PyQt5.QtCore import QSize, Qt\n",
    "from PyQt5.QtWidgets import *\n",
    "from PyQt5.QtGui import QPicture,QPainter\n",
    "from PyQt5.QtCore import QPointF,QRectF\n",
    "import sys\n",
    "import pyqtgraph as pg\n",
    "import time\n",
    "from datetime import datetime\n",
    "import pandas as pd\n",
    "import numpy as np"
   ]
  },
  {
   "cell_type": "markdown",
   "metadata": {},
   "source": [
    "# 模拟数据流"
   ]
  },
  {
   "cell_type": "markdown",
   "metadata": {},
   "source": [
    "## 全数据"
   ]
  },
  {
   "cell_type": "code",
   "execution_count": 4,
   "metadata": {},
   "outputs": [],
   "source": [
    "def get_stock_history_from_yahoo(ticker=\"NFLX\"):\n",
    "    urlstr = \"https://finance.yahoo.com/quote/{0}/history?p={0}\".format(ticker) \n",
    "    hdata = pd.read_html(urlstr)[0][:-1] \n",
    "    hdata = hdata.set_index('Date') \n",
    "    hdata.index = pd.to_datetime(hdata.index)\n",
    "    hdata = hdata.astype('d')\n",
    "    hdata.columns = ['Open','High','Low','Close', 'AdjClose','Volume'] \n",
    "    hdata_reindexed=hdata.reset_index()\n",
    "    valid_set=hdata_reindexed.sort_values(by='Date').reset_index(drop=True)\n",
    "    return valid_set"
   ]
  },
  {
   "cell_type": "code",
   "execution_count": 5,
   "metadata": {},
   "outputs": [],
   "source": [
    "valid_set=get_stock_history_from_yahoo()"
   ]
  },
  {
   "cell_type": "markdown",
   "metadata": {},
   "source": [
    "## 模拟数据流"
   ]
  },
  {
   "cell_type": "code",
   "execution_count": null,
   "metadata": {},
   "outputs": [],
   "source": [
    "def get_stock_info():\n",
    "    \n",
    "    "
   ]
  }
 ],
 "metadata": {
  "kernelspec": {
   "display_name": "Python 3",
   "language": "python",
   "name": "python3"
  },
  "language_info": {
   "codemirror_mode": {
    "name": "ipython",
    "version": 3
   },
   "file_extension": ".py",
   "mimetype": "text/x-python",
   "name": "python",
   "nbconvert_exporter": "python",
   "pygments_lexer": "ipython3",
   "version": "3.7.6"
  }
 },
 "nbformat": 4,
 "nbformat_minor": 4
}

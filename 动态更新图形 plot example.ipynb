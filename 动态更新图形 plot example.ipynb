{
 "cells": [
  {
   "cell_type": "markdown",
   "metadata": {},
   "source": [
    "# 动态获取cpu信息"
   ]
  },
  {
   "cell_type": "code",
   "execution_count": 1,
   "metadata": {},
   "outputs": [
    {
     "name": "stdout",
     "output_type": "stream",
     "text": [
      "CPU:6.60%\n",
      "CPU:21.50%\n",
      "CPU:23.20%\n",
      "CPU:6.50%\n",
      "CPU:6.20%\n",
      "CPU:13.60%\n"
     ]
    },
    {
     "ename": "KeyboardInterrupt",
     "evalue": "",
     "output_type": "error",
     "traceback": [
      "\u001b[1;31m---------------------------------------------------------------------------\u001b[0m",
      "\u001b[1;31mKeyboardInterrupt\u001b[0m                         Traceback (most recent call last)",
      "\u001b[1;32m<ipython-input-1-092548313a8b>\u001b[0m in \u001b[0;36m<module>\u001b[1;34m\u001b[0m\n\u001b[0;32m     13\u001b[0m \u001b[1;33m\u001b[0m\u001b[0m\n\u001b[0;32m     14\u001b[0m \u001b[1;32mif\u001b[0m \u001b[0m__name__\u001b[0m \u001b[1;33m==\u001b[0m \u001b[1;34m\"__main__\"\u001b[0m\u001b[1;33m:\u001b[0m\u001b[1;33m\u001b[0m\u001b[1;33m\u001b[0m\u001b[0m\n\u001b[1;32m---> 15\u001b[1;33m   \u001b[0mmain\u001b[0m\u001b[1;33m(\u001b[0m\u001b[1;33m)\u001b[0m\u001b[1;33m\u001b[0m\u001b[1;33m\u001b[0m\u001b[0m\n\u001b[0m",
      "\u001b[1;32m<ipython-input-1-092548313a8b>\u001b[0m in \u001b[0;36mmain\u001b[1;34m()\u001b[0m\n\u001b[0;32m      8\u001b[0m \u001b[1;32mdef\u001b[0m \u001b[0mmain\u001b[0m\u001b[1;33m(\u001b[0m\u001b[1;33m)\u001b[0m\u001b[1;33m:\u001b[0m\u001b[1;33m\u001b[0m\u001b[1;33m\u001b[0m\u001b[0m\n\u001b[0;32m      9\u001b[0m   \u001b[1;32mwhile\u001b[0m \u001b[1;32mTrue\u001b[0m\u001b[1;33m:\u001b[0m\u001b[1;33m\u001b[0m\u001b[1;33m\u001b[0m\u001b[0m\n\u001b[1;32m---> 10\u001b[1;33m     \u001b[0minfo\u001b[0m \u001b[1;33m=\u001b[0m \u001b[0mget_cpu_info\u001b[0m\u001b[1;33m(\u001b[0m\u001b[1;33m)\u001b[0m\u001b[1;33m\u001b[0m\u001b[1;33m\u001b[0m\u001b[0m\n\u001b[0m\u001b[0;32m     11\u001b[0m     \u001b[0mprint\u001b[0m\u001b[1;33m(\u001b[0m\u001b[0minfo\u001b[0m\u001b[1;33m)\u001b[0m\u001b[1;33m\u001b[0m\u001b[1;33m\u001b[0m\u001b[0m\n\u001b[0;32m     12\u001b[0m     \u001b[0mtime\u001b[0m\u001b[1;33m.\u001b[0m\u001b[0msleep\u001b[0m\u001b[1;33m(\u001b[0m\u001b[1;36m1\u001b[0m\u001b[1;33m)\u001b[0m\u001b[1;33m\u001b[0m\u001b[1;33m\u001b[0m\u001b[0m\n",
      "\u001b[1;32m<ipython-input-1-092548313a8b>\u001b[0m in \u001b[0;36mget_cpu_info\u001b[1;34m()\u001b[0m\n\u001b[0;32m      3\u001b[0m \u001b[1;33m\u001b[0m\u001b[0m\n\u001b[0;32m      4\u001b[0m \u001b[1;32mdef\u001b[0m \u001b[0mget_cpu_info\u001b[0m\u001b[1;33m(\u001b[0m\u001b[1;33m)\u001b[0m\u001b[1;33m:\u001b[0m\u001b[1;33m\u001b[0m\u001b[1;33m\u001b[0m\u001b[0m\n\u001b[1;32m----> 5\u001b[1;33m   \u001b[0mcpu\u001b[0m \u001b[1;33m=\u001b[0m \u001b[1;34m\"CPU:%0.2f\"\u001b[0m \u001b[1;33m%\u001b[0m \u001b[0mpsutil\u001b[0m\u001b[1;33m.\u001b[0m\u001b[0mcpu_percent\u001b[0m\u001b[1;33m(\u001b[0m\u001b[0minterval\u001b[0m\u001b[1;33m=\u001b[0m\u001b[1;36m1\u001b[0m\u001b[1;33m)\u001b[0m \u001b[1;33m+\u001b[0m \u001b[1;34m\"%\"\u001b[0m\u001b[1;33m\u001b[0m\u001b[1;33m\u001b[0m\u001b[0m\n\u001b[0m\u001b[0;32m      6\u001b[0m   \u001b[1;32mreturn\u001b[0m \u001b[0mcpu\u001b[0m\u001b[1;33m\u001b[0m\u001b[1;33m\u001b[0m\u001b[0m\n\u001b[0;32m      7\u001b[0m \u001b[1;33m\u001b[0m\u001b[0m\n",
      "\u001b[1;32m~\\anaconda3\\lib\\site-packages\\psutil\\__init__.py\u001b[0m in \u001b[0;36mcpu_percent\u001b[1;34m(interval, percpu)\u001b[0m\n\u001b[0;32m   1862\u001b[0m         \u001b[1;32mif\u001b[0m \u001b[0mblocking\u001b[0m\u001b[1;33m:\u001b[0m\u001b[1;33m\u001b[0m\u001b[1;33m\u001b[0m\u001b[0m\n\u001b[0;32m   1863\u001b[0m             \u001b[0mt1\u001b[0m \u001b[1;33m=\u001b[0m \u001b[0mcpu_times\u001b[0m\u001b[1;33m(\u001b[0m\u001b[1;33m)\u001b[0m\u001b[1;33m\u001b[0m\u001b[1;33m\u001b[0m\u001b[0m\n\u001b[1;32m-> 1864\u001b[1;33m             \u001b[0mtime\u001b[0m\u001b[1;33m.\u001b[0m\u001b[0msleep\u001b[0m\u001b[1;33m(\u001b[0m\u001b[0minterval\u001b[0m\u001b[1;33m)\u001b[0m\u001b[1;33m\u001b[0m\u001b[1;33m\u001b[0m\u001b[0m\n\u001b[0m\u001b[0;32m   1865\u001b[0m         \u001b[1;32melse\u001b[0m\u001b[1;33m:\u001b[0m\u001b[1;33m\u001b[0m\u001b[1;33m\u001b[0m\u001b[0m\n\u001b[0;32m   1866\u001b[0m             \u001b[0mt1\u001b[0m \u001b[1;33m=\u001b[0m \u001b[0m_last_cpu_times\u001b[0m\u001b[1;33m\u001b[0m\u001b[1;33m\u001b[0m\u001b[0m\n",
      "\u001b[1;31mKeyboardInterrupt\u001b[0m: "
     ]
    }
   ],
   "source": [
    "import psutil\n",
    "import time\n",
    "\n",
    "def get_cpu_info():\n",
    "  cpu = \"CPU:%0.2f\" % psutil.cpu_percent(interval=1) + \"%\"\n",
    "  return cpu\n",
    "\n",
    "def main():\n",
    "  while True:\n",
    "    info = get_cpu_info()\n",
    "    print(info)\n",
    "    time.sleep(1)\n",
    "\n",
    "if __name__ == \"__main__\":\n",
    "  main()"
   ]
  },
  {
   "cell_type": "markdown",
   "metadata": {},
   "source": [
    "# 使用pyqt5 创建绘图界面"
   ]
  },
  {
   "cell_type": "code",
   "execution_count": 3,
   "metadata": {},
   "outputs": [],
   "source": [
    "from PyQt5 import QtWidgets,QtCore,QtGui\n",
    "import tushare as ts\n",
    "import pyqtgraph as pg\n",
    "import sys\n",
    "import datetime\n",
    "import traceback\n",
    "import numpy as np"
   ]
  },
  {
   "cell_type": "code",
   "execution_count": 4,
   "metadata": {},
   "outputs": [
    {
     "ename": "SystemExit",
     "evalue": "0",
     "output_type": "error",
     "traceback": [
      "An exception has occurred, use %tb to see the full traceback.\n",
      "\u001b[1;31mSystemExit\u001b[0m\u001b[1;31m:\u001b[0m 0\n"
     ]
    },
    {
     "name": "stderr",
     "output_type": "stream",
     "text": [
      "C:\\Users\\taosu\\anaconda3\\lib\\site-packages\\IPython\\core\\interactiveshell.py:3339: UserWarning: To exit: use 'exit', 'quit', or Ctrl-D.\n",
      "  warn(\"To exit: use 'exit', 'quit', or Ctrl-D.\", stacklevel=1)\n"
     ]
    }
   ],
   "source": [
    "class MainUi(QtWidgets.QMainWindow):\n",
    "    def __init__(self):\n",
    "        super().__init__()\n",
    "        self.setWindowTitle(\"CPU使用率监控 - 州的先生https://zmister.com\")\n",
    "        self.main_widget = QtWidgets.QWidget() # 创建一个主部件\n",
    "        self.main_layout = QtWidgets.QGridLayout() # 创建一个网格布局\n",
    "        self.main_widget.setLayout(self.main_layout) # 设置主部件的布局为网格\n",
    "        self.setCentralWidget(self.main_widget) # 设置窗口默认部件\n",
    "\n",
    "        self.plot_widget = QtWidgets.QWidget() # 实例化一个widget部件作为K线图部件\n",
    "        self.plot_layout = QtWidgets.QGridLayout() # 实例化一个网格布局层\n",
    "        self.plot_widget.setLayout(self.plot_layout) # 设置线图部件的布局层\n",
    "        self.plot_plt = pg.PlotWidget() # 实例化一个绘图部件\n",
    "        self.plot_plt.showGrid(x=True,y=True) # 显示图形网格\n",
    "        self.plot_layout.addWidget(self.plot_plt) # 添加绘图部件到线图部件的网格布局层\n",
    "        # 将上述部件添加到布局层中\n",
    "        self.main_layout.addWidget(self.plot_widget, 1, 0, 3, 3)\n",
    "\n",
    "        self.setCentralWidget(self.main_widget)\n",
    "\n",
    "def main():\n",
    "    app = QtWidgets.QApplication(sys.argv)\n",
    "    gui = MainUi()\n",
    "    gui.show()\n",
    "    sys.exit(app.exec_())\n",
    "\n",
    "if __name__ == '__main__':\n",
    "    main()"
   ]
  },
  {
   "cell_type": "markdown",
   "metadata": {},
   "source": [
    "# 两者结合"
   ]
  },
  {
   "cell_type": "code",
   "execution_count": 7,
   "metadata": {},
   "outputs": [],
   "source": [
    "class MainUi(QtWidgets.QMainWindow):\n",
    "    def __init__(self):\n",
    "        super().__init__()\n",
    "        self.setWindowTitle(\"CPU使用率监控 - 州的先生https://zmister.com\")\n",
    "        self.main_widget = QtWidgets.QWidget() # 创建一个主部件\n",
    "        self.main_layout = QtWidgets.QGridLayout() # 创建一个网格布局\n",
    "        self.main_widget.setLayout(self.main_layout) # 设置主部件的布局为网格\n",
    "        self.setCentralWidget(self.main_widget) # 设置窗口默认部件\n",
    "\n",
    "        self.plot_widget = QtWidgets.QWidget() # 实例化一个widget部件作为K线图部件\n",
    "        self.plot_layout = QtWidgets.QGridLayout() # 实例化一个网格布局层\n",
    "        self.plot_widget.setLayout(self.plot_layout) # 设置K线图部件的布局层\n",
    "        self.plot_plt = pg.PlotWidget() # 实例化一个绘图部件\n",
    "        self.plot_plt.showGrid(x=True,y=True) # 显示图形网格\n",
    "        self.plot_layout.addWidget(self.plot_plt) # 添加绘图部件到K线图部件的网格布局层\n",
    "        # 将上述部件添加到布局层中\n",
    "        self.main_layout.addWidget(self.plot_widget, 1, 0, 3, 3)\n",
    "\n",
    "        self.setCentralWidget(self.main_widget)\n",
    "\n",
    "        self.plot_plt.setYRange(max=100,min=0)\n",
    "        self.data_list = []\n",
    "        self.timer_start()\n",
    "\n",
    "    \n",
    "    \n",
    "    # 递归地 调用计时器\n",
    "    def timer_start(self):\n",
    "        self.timer = QtCore.QTimer(self)\n",
    "        self.timer.timeout.connect(self.get_cpu_info)\n",
    "        self.timer.start(1000)\n",
    "    \n",
    "    \n",
    "      # 获取CPU使用率\n",
    "    def get_cpu_info(self):\n",
    "        try:\n",
    "            cpu = \"%0.2f\" % psutil.cpu_percent(interval=1)\n",
    "            self.data_list.append(float(cpu))\n",
    "            print(float(cpu))\n",
    "            self.plot_plt.plot().setData(self.data_list,pen='g')\n",
    "        except Exception as e:\n",
    "            print(traceback.print_exc())\n",
    "\n",
    "    \n",
    "    def main():\n",
    "        app = QtWidgets.QApplication(sys.argv)\n",
    "        gui = MainUi()\n",
    "        gui.show()\n",
    "        sys.exit(app.exec_())"
   ]
  },
  {
   "cell_type": "markdown",
   "metadata": {},
   "source": [
    "# main()"
   ]
  },
  {
   "cell_type": "code",
   "execution_count": 8,
   "metadata": {},
   "outputs": [
    {
     "name": "stdout",
     "output_type": "stream",
     "text": [
      "5.9\n",
      "4.7\n",
      "20.6\n",
      "16.9\n",
      "5.0\n",
      "9.7\n",
      "6.6\n",
      "2.0\n",
      "2.7\n",
      "4.3\n",
      "6.9\n",
      "2.0\n",
      "3.5\n",
      "3.1\n",
      "3.9\n",
      "1.2\n",
      "3.9\n",
      "5.0\n",
      "2.3\n",
      "19.1\n",
      "7.8\n",
      "10.9\n",
      "14.8\n",
      "4.6\n",
      "24.2\n"
     ]
    },
    {
     "ename": "SystemExit",
     "evalue": "0",
     "output_type": "error",
     "traceback": [
      "An exception has occurred, use %tb to see the full traceback.\n",
      "\u001b[1;31mSystemExit\u001b[0m\u001b[1;31m:\u001b[0m 0\n"
     ]
    }
   ],
   "source": [
    "if __name__=='__main__':\n",
    "    main()"
   ]
  },
  {
   "cell_type": "code",
   "execution_count": null,
   "metadata": {},
   "outputs": [],
   "source": []
  }
 ],
 "metadata": {
  "kernelspec": {
   "display_name": "Python 3",
   "language": "python",
   "name": "python3"
  },
  "language_info": {
   "codemirror_mode": {
    "name": "ipython",
    "version": 3
   },
   "file_extension": ".py",
   "mimetype": "text/x-python",
   "name": "python",
   "nbconvert_exporter": "python",
   "pygments_lexer": "ipython3",
   "version": "3.7.6"
  }
 },
 "nbformat": 4,
 "nbformat_minor": 4
}

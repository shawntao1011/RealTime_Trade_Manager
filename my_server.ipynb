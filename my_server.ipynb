{
 "cells": [
  {
   "cell_type": "markdown",
   "metadata": {},
   "source": [
    "# 假设数据"
   ]
  },
  {
   "cell_type": "code",
   "execution_count": 1,
   "metadata": {},
   "outputs": [],
   "source": [
    "data=[\n",
    "\"BarraRisk, BETA, FLML, 0.1343\",\n",
    "\"BarraRisk, BETA, FLOW, -0.0801\",\n",
    "\"BarraRisk, BETA, ML, 0.0441\",\n",
    "\"BarraRisk, BP, FLML, -0.1886\",\n",
    "\"BarraRisk, BP, FLOW, -0.1855\",\n",
    "\"BarraRisk, BP, ML, -0.4184\",\n",
    "\"BarraRisk, EP, FLML, -0.0565\",\n",
    "\"BarraRisk, EP, FLOW, -0.0264\",\n",
    "\"BarraRisk, EP, ML, -0.0594\",\n",
    "\"BarraRisk, GRO, FLML, -0.0245\",\n",
    "\"BarraRisk, GRO, FLOW, -0.0483\",\n",
    "\"BarraRisk, GRO, ML, 0.1108\",\n",
    "\"BarraRisk, LEV, FLML, -0.0981\",\n",
    "\"BarraRisk, LEV, FLOW, -0.1570\",\n",
    "\"BarraRisk, LEV, ML, -0.3013\",\n",
    "\"BarraRisk, LIQ, FLML, 0.1827\",\n",
    "\"BarraRisk, LIQ, FLOW, -0.0660\",\n",
    "\"BarraRisk, LIQ, ML, -0.1457\",\n",
    "\"BarraRisk, MOM, FLML, 0.0511\",\n",
    "\"BarraRisk, MOM, FLOW, -0.0276\",\n",
    "\"BarraRisk, MOM, ML, 0.2568\",\n",
    "\"BarraRisk, NLSIZE, FLML, 0.1935\",\n",
    "\"BarraRisk, NLSIZE, FLOW, 0.1893\",\n",
    "\"BarraRisk, NLSIZE, ML, 0.9563\",\n",
    "\"BarraRisk, SIZE, FLML, -0.2068\",\n",
    "\"BarraRisk, SIZE, FLOW, -0.2110\",\n",
    "\"BarraRisk, SIZE, ML, -0.0636\",\n",
    "\"BarraRisk, VOL, FLML, 0.0502\",\n",
    "\"BarraRisk, VOL, FLOW, -0.0353\",\n",
    "\"BarraRisk, VOL, ML, -0.1375\"\n",
    "]"
   ]
  },
  {
   "cell_type": "markdown",
   "metadata": {},
   "source": [
    "# server"
   ]
  },
  {
   "cell_type": "code",
   "execution_count": 2,
   "metadata": {},
   "outputs": [],
   "source": [
    "import zmq\n",
    "import time"
   ]
  },
  {
   "cell_type": "code",
   "execution_count": null,
   "metadata": {},
   "outputs": [],
   "source": [
    "context=zmq.Context()\n",
    "socket=context.socket(zmq.PUB)\n",
    "socket.bind('tcp://192.168.1.108:19006')\n",
    "\n",
    "count=0\n",
    "max_len=len(data)\n",
    "while True:\n",
    "    if count<max_len-1:\n",
    "        count+=1\n",
    "    else:\n",
    "        count=0\n",
    "    \n",
    "    #print(data[count])\n",
    "    socket.send_string('%s'%data[count])\n",
    "    time.sleep(1)"
   ]
  },
  {
   "cell_type": "code",
   "execution_count": null,
   "metadata": {},
   "outputs": [],
   "source": []
  }
 ],
 "metadata": {
  "kernelspec": {
   "display_name": "Python 3",
   "language": "python",
   "name": "python3"
  },
  "language_info": {
   "codemirror_mode": {
    "name": "ipython",
    "version": 3
   },
   "file_extension": ".py",
   "mimetype": "text/x-python",
   "name": "python",
   "nbconvert_exporter": "python",
   "pygments_lexer": "ipython3",
   "version": "3.7.6"
  }
 },
 "nbformat": 4,
 "nbformat_minor": 4
}
